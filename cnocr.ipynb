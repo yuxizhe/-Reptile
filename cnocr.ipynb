{
  "nbformat": 4,
  "nbformat_minor": 0,
  "metadata": {
    "colab": {
      "name": "cnocr.ipynb",
      "provenance": [],
      "authorship_tag": "ABX9TyMS3hMTiFZP/N/a7gn/oOPJ",
      "include_colab_link": true
    },
    "kernelspec": {
      "name": "python3",
      "display_name": "Python 3"
    }
  },
  "cells": [
    {
      "cell_type": "markdown",
      "metadata": {
        "id": "view-in-github",
        "colab_type": "text"
      },
      "source": [
        "<a href=\"https://colab.research.google.com/github/yuxizhe/-Reptile/blob/master/cnocr.ipynb\" target=\"_parent\"><img src=\"https://colab.research.google.com/assets/colab-badge.svg\" alt=\"Open In Colab\"/></a>"
      ]
    },
    {
      "cell_type": "code",
      "metadata": {
        "id": "ETaLTmuA4beS",
        "colab_type": "code",
        "colab": {}
      },
      "source": [
        "!pip install cnocr"
      ],
      "execution_count": 0,
      "outputs": []
    },
    {
      "cell_type": "code",
      "metadata": {
        "id": "9wqL-6LO5MXE",
        "colab_type": "code",
        "colab": {
          "base_uri": "https://localhost:8080/",
          "height": 54
        },
        "outputId": "db3cae23-ed74-4d67-996c-84773272147b"
      },
      "source": [
        "from cnocr import CnOcr\n",
        "ocr = CnOcr()\n",
        "res = ocr.ocr('rp.png')\n",
        "print(\"Predicted Chars:\", res)"
      ],
      "execution_count": 10,
      "outputs": [
        {
          "output_type": "stream",
          "text": [
            "Predicted Chars: [['[', '@', '迪', '〔', '融', 'a', '聊', '8', '跑', '盟', '题', '瞩', ']'], ['|', '时', '间', '直', '播', '间', 'i', 'd', 'u', 'i', 'd', '雪', '球', '―', '用', '户', '名', '管', '理', '员', '身', '份', '管', '理', '相', '关', '操', '作', '人'], ['l', '2', '0', '2', '0', '.', '0', '3', '.', '1', '3', '1', '8', ':', '2', '3', '「', '1', '1', '1', '1', '我', '是', '个', '人', '管', '理', '员', '编', '辑', '删', '除', 'r', 'n', 'I', 'n', 'g', 'm', 'e', 'n', 'g', 'l', 'n', 'g', 'l'], ['|', '2', 'n', 'a', 'o', 'n', 'a', '3', '7', 'e', 'a', 'l', '1', '1', '1', '不', '晨', '个', '人', '圈', '眼', '.', 'E', 'M', '降', '「'], ['l', 'l', 'l', 'l', 'l', '领', '复', '永', '久', 'P', 'J', '除']]\n"
          ],
          "name": "stdout"
        }
      ]
    }
  ]
}